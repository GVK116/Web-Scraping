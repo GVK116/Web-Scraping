{
 "cells": [
  {
   "cell_type": "markdown",
   "id": "7ee83747",
   "metadata": {},
   "source": [
    "### Test"
   ]
  },
  {
   "cell_type": "code",
   "execution_count": 6,
   "id": "eab33c47",
   "metadata": {},
   "outputs": [
    {
     "name": "stdout",
     "output_type": "stream",
     "text": [
      "Defaulting to user installation because normal site-packages is not writeable\n",
      "Requirement already satisfied: requests in /usr/lib/python3/dist-packages (2.25.1)\n"
     ]
    }
   ],
   "source": [
    "!pip install requests"
   ]
  },
  {
   "cell_type": "code",
   "execution_count": 7,
   "id": "e0c59944",
   "metadata": {},
   "outputs": [],
   "source": [
    "import requests"
   ]
  },
  {
   "cell_type": "code",
   "execution_count": 8,
   "id": "6f30ac90",
   "metadata": {},
   "outputs": [],
   "source": [
    "web_link = 'https://github.com'"
   ]
  },
  {
   "cell_type": "code",
   "execution_count": 9,
   "id": "9da2d48f",
   "metadata": {},
   "outputs": [],
   "source": [
    "topics_url = 'https://github.com/topics'"
   ]
  },
  {
   "cell_type": "code",
   "execution_count": null,
   "id": "75d0cf72",
   "metadata": {},
   "outputs": [],
   "source": []
  },
  {
   "cell_type": "code",
   "execution_count": 10,
   "id": "c51becf0",
   "metadata": {},
   "outputs": [],
   "source": [
    "response = requests.get(topics_url)"
   ]
  },
  {
   "cell_type": "code",
   "execution_count": 11,
   "id": "5905a0d5",
   "metadata": {},
   "outputs": [
    {
     "data": {
      "text/plain": [
       "200"
      ]
     },
     "execution_count": 11,
     "metadata": {},
     "output_type": "execute_result"
    }
   ],
   "source": [
    "response.status_code"
   ]
  },
  {
   "cell_type": "code",
   "execution_count": 12,
   "id": "6e797913",
   "metadata": {},
   "outputs": [
    {
     "data": {
      "text/plain": [
       "152019"
      ]
     },
     "execution_count": 12,
     "metadata": {},
     "output_type": "execute_result"
    }
   ],
   "source": [
    "len(response.text)"
   ]
  },
  {
   "cell_type": "code",
   "execution_count": 13,
   "id": "45f5fa36",
   "metadata": {},
   "outputs": [],
   "source": [
    "with open ('webpage.html' , 'w') as f:\n",
    "    f.write(response.text)"
   ]
  },
  {
   "cell_type": "code",
   "execution_count": 14,
   "id": "4845afc1",
   "metadata": {},
   "outputs": [],
   "source": [
    "page_content = response.text"
   ]
  },
  {
   "cell_type": "code",
   "execution_count": null,
   "id": "908d6144",
   "metadata": {},
   "outputs": [],
   "source": []
  },
  {
   "cell_type": "markdown",
   "id": "459755da",
   "metadata": {},
   "source": [
    "## Beautifull soup"
   ]
  },
  {
   "cell_type": "code",
   "execution_count": 15,
   "id": "53b0e239",
   "metadata": {},
   "outputs": [],
   "source": [
    "!pip install beautifulsoup4 --upgrade --quiet"
   ]
  },
  {
   "cell_type": "code",
   "execution_count": 16,
   "id": "c820d018",
   "metadata": {},
   "outputs": [],
   "source": [
    "from bs4 import BeautifulSoup"
   ]
  },
  {
   "cell_type": "code",
   "execution_count": 17,
   "id": "73fb5ed0",
   "metadata": {},
   "outputs": [],
   "source": [
    "doc = BeautifulSoup(page_content,'html.parser')"
   ]
  },
  {
   "cell_type": "code",
   "execution_count": null,
   "id": "ba427b44",
   "metadata": {},
   "outputs": [],
   "source": []
  },
  {
   "cell_type": "code",
   "execution_count": 18,
   "id": "1ebb53ce",
   "metadata": {},
   "outputs": [],
   "source": [
    "p_tags = doc.find_all('p',{'class':'f3 lh-condensed mb-0 mt-1 Link--primary'})"
   ]
  },
  {
   "cell_type": "code",
   "execution_count": 19,
   "id": "066bd485",
   "metadata": {
    "scrolled": true
   },
   "outputs": [
    {
     "data": {
      "text/plain": [
       "[<p class=\"f3 lh-condensed mb-0 mt-1 Link--primary\">3D</p>,\n",
       " <p class=\"f3 lh-condensed mb-0 mt-1 Link--primary\">Ajax</p>,\n",
       " <p class=\"f3 lh-condensed mb-0 mt-1 Link--primary\">Algorithm</p>,\n",
       " <p class=\"f3 lh-condensed mb-0 mt-1 Link--primary\">Amp</p>,\n",
       " <p class=\"f3 lh-condensed mb-0 mt-1 Link--primary\">Android</p>]"
      ]
     },
     "execution_count": 19,
     "metadata": {},
     "output_type": "execute_result"
    }
   ],
   "source": [
    "p_tags[:5]"
   ]
  },
  {
   "cell_type": "code",
   "execution_count": 20,
   "id": "2ac67366",
   "metadata": {},
   "outputs": [],
   "source": [
    "desc_tag = doc.find_all('p',{'class':'f5 color-fg-muted mb-0 mt-1'})"
   ]
  },
  {
   "cell_type": "code",
   "execution_count": 21,
   "id": "4d3c3c5e",
   "metadata": {},
   "outputs": [
    {
     "data": {
      "text/plain": [
       "[<p class=\"f5 color-fg-muted mb-0 mt-1\">\n",
       "           3D modeling is the process of virtually developing the surface and structure of a 3D object.\n",
       "         </p>,\n",
       " <p class=\"f5 color-fg-muted mb-0 mt-1\">\n",
       "           Ajax is a technique for creating interactive web applications.\n",
       "         </p>,\n",
       " <p class=\"f5 color-fg-muted mb-0 mt-1\">\n",
       "           Algorithms are self-contained sequences that carry out a variety of tasks.\n",
       "         </p>,\n",
       " <p class=\"f5 color-fg-muted mb-0 mt-1\">\n",
       "           Amp is a non-blocking concurrency library for PHP.\n",
       "         </p>,\n",
       " <p class=\"f5 color-fg-muted mb-0 mt-1\">\n",
       "           Android is an operating system built by Google designed for mobile devices.\n",
       "         </p>]"
      ]
     },
     "execution_count": 21,
     "metadata": {},
     "output_type": "execute_result"
    }
   ],
   "source": [
    "desc_tag[:5]"
   ]
  },
  {
   "cell_type": "code",
   "execution_count": null,
   "id": "6c3ca5b4",
   "metadata": {},
   "outputs": [],
   "source": []
  },
  {
   "cell_type": "code",
   "execution_count": 22,
   "id": "f7c344f3",
   "metadata": {},
   "outputs": [],
   "source": [
    "p_tag0 = p_tags[0]\n"
   ]
  },
  {
   "cell_type": "code",
   "execution_count": 23,
   "id": "d6721e42",
   "metadata": {},
   "outputs": [],
   "source": [
    "d3 = p_tag0.parent"
   ]
  },
  {
   "cell_type": "code",
   "execution_count": null,
   "id": "ddf9c14b",
   "metadata": {},
   "outputs": [],
   "source": []
  },
  {
   "cell_type": "code",
   "execution_count": 24,
   "id": "0286e2b2",
   "metadata": {},
   "outputs": [
    {
     "data": {
      "text/plain": [
       "'3D'"
      ]
     },
     "execution_count": 24,
     "metadata": {},
     "output_type": "execute_result"
    }
   ],
   "source": [
    "p_tag0.text"
   ]
  },
  {
   "cell_type": "code",
   "execution_count": null,
   "id": "1a652f2b",
   "metadata": {},
   "outputs": [],
   "source": []
  },
  {
   "cell_type": "code",
   "execution_count": 25,
   "id": "31bc18ae",
   "metadata": {},
   "outputs": [
    {
     "data": {
      "text/plain": [
       "<a class=\"no-underline flex-1 d-flex flex-column\" href=\"/topics/3d\">\n",
       "<p class=\"f3 lh-condensed mb-0 mt-1 Link--primary\">3D</p>\n",
       "<p class=\"f5 color-fg-muted mb-0 mt-1\">\n",
       "          3D modeling is the process of virtually developing the surface and structure of a 3D object.\n",
       "        </p>\n",
       "</a>"
      ]
     },
     "execution_count": 25,
     "metadata": {},
     "output_type": "execute_result"
    }
   ],
   "source": [
    "d3"
   ]
  },
  {
   "cell_type": "code",
   "execution_count": 26,
   "id": "90a7340b",
   "metadata": {},
   "outputs": [
    {
     "data": {
      "text/plain": [
       "['no-underline', 'flex-1', 'd-flex', 'flex-column']"
      ]
     },
     "execution_count": 26,
     "metadata": {},
     "output_type": "execute_result"
    }
   ],
   "source": [
    "d3['class']"
   ]
  },
  {
   "cell_type": "code",
   "execution_count": null,
   "id": "849b1358",
   "metadata": {},
   "outputs": [],
   "source": []
  },
  {
   "cell_type": "code",
   "execution_count": 27,
   "id": "79b7d492",
   "metadata": {},
   "outputs": [
    {
     "name": "stdout",
     "output_type": "stream",
     "text": [
      "https://github.com/topics/3d\n"
     ]
    }
   ],
   "source": [
    "topic0_url = web_link+d3['href']\n",
    "print(topic0_url)"
   ]
  },
  {
   "cell_type": "code",
   "execution_count": null,
   "id": "55047e32",
   "metadata": {},
   "outputs": [],
   "source": []
  },
  {
   "cell_type": "code",
   "execution_count": 28,
   "id": "41a0ab4e",
   "metadata": {},
   "outputs": [
    {
     "name": "stdout",
     "output_type": "stream",
     "text": [
      "https://github.com/topics/algorithm\n"
     ]
    }
   ],
   "source": [
    "URLS = []\n",
    "\n",
    "for link in p_tags:\n",
    "    URLS.append(web_link + link.parent['href'])\n",
    "\n",
    "print(URLS[2])"
   ]
  },
  {
   "cell_type": "code",
   "execution_count": 29,
   "id": "6eb951cf",
   "metadata": {},
   "outputs": [],
   "source": [
    "title_p,desc_title = [],[]\n",
    "\n",
    "for i in range(len(p_tags)):\n",
    "    title_p.append(p_tags[i].text.strip())\n",
    "    desc_title.append(desc_tag[i].text.strip())\n"
   ]
  },
  {
   "cell_type": "code",
   "execution_count": null,
   "id": "46dc7a84",
   "metadata": {},
   "outputs": [],
   "source": []
  },
  {
   "cell_type": "code",
   "execution_count": 30,
   "id": "79a05d6f",
   "metadata": {},
   "outputs": [],
   "source": [
    "data = {'title':title_p,'Discreption':desc_title,'url':URLS}"
   ]
  },
  {
   "cell_type": "code",
   "execution_count": null,
   "id": "b32a979a",
   "metadata": {},
   "outputs": [],
   "source": []
  },
  {
   "cell_type": "markdown",
   "id": "a8c5baf2",
   "metadata": {},
   "source": [
    "## Create CSV file "
   ]
  },
  {
   "cell_type": "code",
   "execution_count": 31,
   "id": "d8b76b87",
   "metadata": {},
   "outputs": [],
   "source": [
    "import pandas as pd"
   ]
  },
  {
   "cell_type": "code",
   "execution_count": 32,
   "id": "ecd09091",
   "metadata": {},
   "outputs": [],
   "source": [
    "dataset = pd.DataFrame(data,) "
   ]
  },
  {
   "cell_type": "code",
   "execution_count": 33,
   "id": "c1a26d9f",
   "metadata": {},
   "outputs": [
    {
     "data": {
      "text/plain": [
       "'https://github.com/topics/3d'"
      ]
     },
     "execution_count": 33,
     "metadata": {},
     "output_type": "execute_result"
    }
   ],
   "source": [
    "dataset.url[0]"
   ]
  },
  {
   "cell_type": "code",
   "execution_count": null,
   "id": "bb9e272e",
   "metadata": {},
   "outputs": [],
   "source": []
  },
  {
   "cell_type": "code",
   "execution_count": 34,
   "id": "b27bf1c7",
   "metadata": {},
   "outputs": [],
   "source": [
    "dataset.to_csv('github_topics.csv',index = None)"
   ]
  },
  {
   "cell_type": "code",
   "execution_count": null,
   "id": "433fcfc2",
   "metadata": {},
   "outputs": [],
   "source": []
  },
  {
   "cell_type": "code",
   "execution_count": 35,
   "id": "08f09638",
   "metadata": {},
   "outputs": [],
   "source": [
    "topic_title_log = dataset.url[0]"
   ]
  },
  {
   "cell_type": "code",
   "execution_count": 36,
   "id": "178a5e66",
   "metadata": {},
   "outputs": [],
   "source": [
    "responce2 = requests.get(topic_title_log)"
   ]
  },
  {
   "cell_type": "code",
   "execution_count": 37,
   "id": "07a54657",
   "metadata": {},
   "outputs": [
    {
     "data": {
      "text/plain": [
       "200"
      ]
     },
     "execution_count": 37,
     "metadata": {},
     "output_type": "execute_result"
    }
   ],
   "source": [
    "responce2.status_code"
   ]
  },
  {
   "cell_type": "code",
   "execution_count": null,
   "id": "475bac0f",
   "metadata": {},
   "outputs": [],
   "source": []
  },
  {
   "cell_type": "code",
   "execution_count": 38,
   "id": "6b115767",
   "metadata": {},
   "outputs": [],
   "source": [
    "with open ('topic.html' , 'w') as f:\n",
    "    f.write(responce2.text)"
   ]
  },
  {
   "cell_type": "code",
   "execution_count": 40,
   "id": "40ffcc26",
   "metadata": {},
   "outputs": [],
   "source": [
    "topic_doc = BeautifulSoup(responce2.text,'html.parser') "
   ]
  },
  {
   "cell_type": "code",
   "execution_count": 42,
   "id": "a7ddaed4",
   "metadata": {},
   "outputs": [],
   "source": [
    "title_repo = topic_doc.find_all('h3',{'class':'f3 color-fg-muted text-normal lh-condensed'})"
   ]
  },
  {
   "cell_type": "code",
   "execution_count": 47,
   "id": "96149092",
   "metadata": {},
   "outputs": [],
   "source": [
    "a_tag = title_repo[0].find_all('a')"
   ]
  },
  {
   "cell_type": "code",
   "execution_count": 52,
   "id": "91ee9dd4",
   "metadata": {},
   "outputs": [
    {
     "data": {
      "text/plain": [
       "'https://github.com/mrdoob/three.js'"
      ]
     },
     "execution_count": 52,
     "metadata": {},
     "output_type": "execute_result"
    }
   ],
   "source": [
    "a_tag[0].text.strip()\n",
    "\n",
    "web_link+a_tag[1]['href']"
   ]
  },
  {
   "cell_type": "code",
   "execution_count": null,
   "id": "3db8fcf6",
   "metadata": {},
   "outputs": [],
   "source": []
  },
  {
   "cell_type": "code",
   "execution_count": 67,
   "id": "e60b2658",
   "metadata": {},
   "outputs": [],
   "source": [
    "star_count = topic_doc.find_all('a',{'class':'tooltipped tooltipped-s btn-sm btn BtnGroup-item color-bg-default'})\n"
   ]
  },
  {
   "cell_type": "code",
   "execution_count": 64,
   "id": "35feaa2a",
   "metadata": {},
   "outputs": [
    {
     "data": {
      "text/plain": [
       "'85.2k'"
      ]
     },
     "execution_count": 64,
     "metadata": {},
     "output_type": "execute_result"
    }
   ],
   "source": [
    "star_tag = star_count[0].find_all('span',{'class':'Counter js-social-count'})\n",
    "star_tag[0].text"
   ]
  },
  {
   "cell_type": "code",
   "execution_count": 65,
   "id": "07d0b183",
   "metadata": {},
   "outputs": [],
   "source": [
    "def parse_star_count(star):\n",
    "    if star[-1] == 'k':\n",
    "        return int(float(star[:-1].strip() )*1000  )\n",
    "    return int(star)\n"
   ]
  },
  {
   "cell_type": "code",
   "execution_count": 66,
   "id": "9baa99ad",
   "metadata": {},
   "outputs": [
    {
     "data": {
      "text/plain": [
       "85200"
      ]
     },
     "execution_count": 66,
     "metadata": {},
     "output_type": "execute_result"
    }
   ],
   "source": [
    "parse_star_count(star_tag[0].text)"
   ]
  },
  {
   "cell_type": "code",
   "execution_count": null,
   "id": "253e9d49",
   "metadata": {},
   "outputs": [],
   "source": []
  },
  {
   "cell_type": "code",
   "execution_count": 89,
   "id": "8566da90",
   "metadata": {},
   "outputs": [],
   "source": [
    "def get_repo_info(h1_tag,star_tag):\n",
    "    # returns all the requited info about a repositry\n",
    "    a_tag = h1_tag.find_all('a')\n",
    "    username = a_tag[0].text.strip()\n",
    "    repo_name = a_tag[1].text.strip()\n",
    "    repo_url = web_link+a_tag[1]['href']\n",
    "    star_tag = star_tag.find_all('span',{'class':'Counter js-social-count'})\n",
    "    stars = parse_star_count(star_tag[0].text.strip())\n",
    "    return username,repo_name,stars,repo_url"
   ]
  },
  {
   "cell_type": "code",
   "execution_count": null,
   "id": "adb5a0c7",
   "metadata": {},
   "outputs": [],
   "source": []
  },
  {
   "cell_type": "code",
   "execution_count": 77,
   "id": "61d185b8",
   "metadata": {},
   "outputs": [
    {
     "data": {
      "text/plain": [
       "20"
      ]
     },
     "execution_count": 77,
     "metadata": {},
     "output_type": "execute_result"
    }
   ],
   "source": [
    "len(star_count)"
   ]
  },
  {
   "cell_type": "code",
   "execution_count": 90,
   "id": "8c2732f5",
   "metadata": {},
   "outputs": [
    {
     "data": {
      "text/plain": [
       "('libgdx', 'libgdx', 20400, 'https://github.com/libgdx/libgdx')"
      ]
     },
     "execution_count": 90,
     "metadata": {},
     "output_type": "execute_result"
    }
   ],
   "source": [
    "get_repo_info(title_repo[1],star_count[1])"
   ]
  },
  {
   "cell_type": "code",
   "execution_count": 91,
   "id": "8b33d8af",
   "metadata": {},
   "outputs": [],
   "source": [
    "topic_repo_dict = {\n",
    "    'user name':[],\n",
    "    'repo name':[],\n",
    "    'stars' : [],\n",
    "    'url' : []\n",
    "}\n",
    "\n",
    "\n",
    "\n",
    "for i in range(len(title_repo)):\n",
    "    repo_info = get_repo_info(title_repo[i],star_count[i])\n",
    "    topic_repo_dict['user name'].append(repo_info[0])\n",
    "    topic_repo_dict['repo name'].append(repo_info[1])\n",
    "    topic_repo_dict['stars'].append(repo_info[2])\n",
    "    topic_repo_dict['url'].append(repo_info[3])\n",
    "\n",
    "    "
   ]
  },
  {
   "cell_type": "code",
   "execution_count": 92,
   "id": "f6c7e4a6",
   "metadata": {},
   "outputs": [
    {
     "data": {
      "text/plain": [
       "{'user name': ['mrdoob',\n",
       "  'libgdx',\n",
       "  'pmndrs',\n",
       "  'BabylonJS',\n",
       "  'ssloy',\n",
       "  'aframevr',\n",
       "  'lettier',\n",
       "  'FreeCAD',\n",
       "  'metafizzy',\n",
       "  'CesiumGS',\n",
       "  'timzhang642',\n",
       "  'isl-org',\n",
       "  'a1studmuffin',\n",
       "  'blender',\n",
       "  'domlysz',\n",
       "  'openscad',\n",
       "  'spritejs',\n",
       "  'jagenjo',\n",
       "  'tensorspace-team',\n",
       "  'google'],\n",
       " 'repo name': ['three.js',\n",
       "  'libgdx',\n",
       "  'react-three-fiber',\n",
       "  'Babylon.js',\n",
       "  'tinyrenderer',\n",
       "  'aframe',\n",
       "  '3d-game-shaders-for-beginners',\n",
       "  'FreeCAD',\n",
       "  'zdog',\n",
       "  'cesium',\n",
       "  '3D-Machine-Learning',\n",
       "  'Open3D',\n",
       "  'SpaceshipGenerator',\n",
       "  'blender',\n",
       "  'BlenderGIS',\n",
       "  'openscad',\n",
       "  'spritejs',\n",
       "  'webglstudio.js',\n",
       "  'tensorspace',\n",
       "  'model-viewer'],\n",
       " 'stars': [85200,\n",
       "  20400,\n",
       "  19500,\n",
       "  18300,\n",
       "  14600,\n",
       "  14500,\n",
       "  13700,\n",
       "  12100,\n",
       "  9400,\n",
       "  9200,\n",
       "  8300,\n",
       "  7400,\n",
       "  7200,\n",
       "  6500,\n",
       "  5600,\n",
       "  5000,\n",
       "  5000,\n",
       "  4700,\n",
       "  4700,\n",
       "  4700],\n",
       " 'url': ['https://github.com/mrdoob/three.js',\n",
       "  'https://github.com/libgdx/libgdx',\n",
       "  'https://github.com/pmndrs/react-three-fiber',\n",
       "  'https://github.com/BabylonJS/Babylon.js',\n",
       "  'https://github.com/ssloy/tinyrenderer',\n",
       "  'https://github.com/aframevr/aframe',\n",
       "  'https://github.com/lettier/3d-game-shaders-for-beginners',\n",
       "  'https://github.com/FreeCAD/FreeCAD',\n",
       "  'https://github.com/metafizzy/zdog',\n",
       "  'https://github.com/CesiumGS/cesium',\n",
       "  'https://github.com/timzhang642/3D-Machine-Learning',\n",
       "  'https://github.com/isl-org/Open3D',\n",
       "  'https://github.com/a1studmuffin/SpaceshipGenerator',\n",
       "  'https://github.com/blender/blender',\n",
       "  'https://github.com/domlysz/BlenderGIS',\n",
       "  'https://github.com/openscad/openscad',\n",
       "  'https://github.com/spritejs/spritejs',\n",
       "  'https://github.com/jagenjo/webglstudio.js',\n",
       "  'https://github.com/tensorspace-team/tensorspace',\n",
       "  'https://github.com/google/model-viewer']}"
      ]
     },
     "execution_count": 92,
     "metadata": {},
     "output_type": "execute_result"
    }
   ],
   "source": [
    "topic_repo_dict"
   ]
  },
  {
   "cell_type": "code",
   "execution_count": 93,
   "id": "0c59a47b",
   "metadata": {},
   "outputs": [],
   "source": [
    "data = pd.DataFrame(topic_repo_dict)"
   ]
  },
  {
   "cell_type": "code",
   "execution_count": 94,
   "id": "72c5fb66",
   "metadata": {},
   "outputs": [],
   "source": [
    "data.to_csv('test_github.csv',index=None)"
   ]
  },
  {
   "cell_type": "code",
   "execution_count": null,
   "id": "204fb215",
   "metadata": {},
   "outputs": [],
   "source": []
  },
  {
   "cell_type": "code",
   "execution_count": 95,
   "id": "9fc02477",
   "metadata": {},
   "outputs": [
    {
     "data": {
      "text/html": [
       "<div>\n",
       "<style scoped>\n",
       "    .dataframe tbody tr th:only-of-type {\n",
       "        vertical-align: middle;\n",
       "    }\n",
       "\n",
       "    .dataframe tbody tr th {\n",
       "        vertical-align: top;\n",
       "    }\n",
       "\n",
       "    .dataframe thead th {\n",
       "        text-align: right;\n",
       "    }\n",
       "</style>\n",
       "<table border=\"1\" class=\"dataframe\">\n",
       "  <thead>\n",
       "    <tr style=\"text-align: right;\">\n",
       "      <th></th>\n",
       "      <th>user name</th>\n",
       "      <th>repo name</th>\n",
       "      <th>stars</th>\n",
       "      <th>url</th>\n",
       "    </tr>\n",
       "  </thead>\n",
       "  <tbody>\n",
       "    <tr>\n",
       "      <th>0</th>\n",
       "      <td>mrdoob</td>\n",
       "      <td>three.js</td>\n",
       "      <td>85200</td>\n",
       "      <td>https://github.com/mrdoob/three.js</td>\n",
       "    </tr>\n",
       "    <tr>\n",
       "      <th>1</th>\n",
       "      <td>libgdx</td>\n",
       "      <td>libgdx</td>\n",
       "      <td>20400</td>\n",
       "      <td>https://github.com/libgdx/libgdx</td>\n",
       "    </tr>\n",
       "    <tr>\n",
       "      <th>2</th>\n",
       "      <td>pmndrs</td>\n",
       "      <td>react-three-fiber</td>\n",
       "      <td>19500</td>\n",
       "      <td>https://github.com/pmndrs/react-three-fiber</td>\n",
       "    </tr>\n",
       "    <tr>\n",
       "      <th>3</th>\n",
       "      <td>BabylonJS</td>\n",
       "      <td>Babylon.js</td>\n",
       "      <td>18300</td>\n",
       "      <td>https://github.com/BabylonJS/Babylon.js</td>\n",
       "    </tr>\n",
       "    <tr>\n",
       "      <th>4</th>\n",
       "      <td>ssloy</td>\n",
       "      <td>tinyrenderer</td>\n",
       "      <td>14600</td>\n",
       "      <td>https://github.com/ssloy/tinyrenderer</td>\n",
       "    </tr>\n",
       "    <tr>\n",
       "      <th>5</th>\n",
       "      <td>aframevr</td>\n",
       "      <td>aframe</td>\n",
       "      <td>14500</td>\n",
       "      <td>https://github.com/aframevr/aframe</td>\n",
       "    </tr>\n",
       "    <tr>\n",
       "      <th>6</th>\n",
       "      <td>lettier</td>\n",
       "      <td>3d-game-shaders-for-beginners</td>\n",
       "      <td>13700</td>\n",
       "      <td>https://github.com/lettier/3d-game-shaders-for...</td>\n",
       "    </tr>\n",
       "    <tr>\n",
       "      <th>7</th>\n",
       "      <td>FreeCAD</td>\n",
       "      <td>FreeCAD</td>\n",
       "      <td>12100</td>\n",
       "      <td>https://github.com/FreeCAD/FreeCAD</td>\n",
       "    </tr>\n",
       "    <tr>\n",
       "      <th>8</th>\n",
       "      <td>metafizzy</td>\n",
       "      <td>zdog</td>\n",
       "      <td>9400</td>\n",
       "      <td>https://github.com/metafizzy/zdog</td>\n",
       "    </tr>\n",
       "    <tr>\n",
       "      <th>9</th>\n",
       "      <td>CesiumGS</td>\n",
       "      <td>cesium</td>\n",
       "      <td>9200</td>\n",
       "      <td>https://github.com/CesiumGS/cesium</td>\n",
       "    </tr>\n",
       "    <tr>\n",
       "      <th>10</th>\n",
       "      <td>timzhang642</td>\n",
       "      <td>3D-Machine-Learning</td>\n",
       "      <td>8300</td>\n",
       "      <td>https://github.com/timzhang642/3D-Machine-Lear...</td>\n",
       "    </tr>\n",
       "    <tr>\n",
       "      <th>11</th>\n",
       "      <td>isl-org</td>\n",
       "      <td>Open3D</td>\n",
       "      <td>7400</td>\n",
       "      <td>https://github.com/isl-org/Open3D</td>\n",
       "    </tr>\n",
       "    <tr>\n",
       "      <th>12</th>\n",
       "      <td>a1studmuffin</td>\n",
       "      <td>SpaceshipGenerator</td>\n",
       "      <td>7200</td>\n",
       "      <td>https://github.com/a1studmuffin/SpaceshipGener...</td>\n",
       "    </tr>\n",
       "    <tr>\n",
       "      <th>13</th>\n",
       "      <td>blender</td>\n",
       "      <td>blender</td>\n",
       "      <td>6500</td>\n",
       "      <td>https://github.com/blender/blender</td>\n",
       "    </tr>\n",
       "    <tr>\n",
       "      <th>14</th>\n",
       "      <td>domlysz</td>\n",
       "      <td>BlenderGIS</td>\n",
       "      <td>5600</td>\n",
       "      <td>https://github.com/domlysz/BlenderGIS</td>\n",
       "    </tr>\n",
       "    <tr>\n",
       "      <th>15</th>\n",
       "      <td>openscad</td>\n",
       "      <td>openscad</td>\n",
       "      <td>5000</td>\n",
       "      <td>https://github.com/openscad/openscad</td>\n",
       "    </tr>\n",
       "    <tr>\n",
       "      <th>16</th>\n",
       "      <td>spritejs</td>\n",
       "      <td>spritejs</td>\n",
       "      <td>5000</td>\n",
       "      <td>https://github.com/spritejs/spritejs</td>\n",
       "    </tr>\n",
       "    <tr>\n",
       "      <th>17</th>\n",
       "      <td>jagenjo</td>\n",
       "      <td>webglstudio.js</td>\n",
       "      <td>4700</td>\n",
       "      <td>https://github.com/jagenjo/webglstudio.js</td>\n",
       "    </tr>\n",
       "    <tr>\n",
       "      <th>18</th>\n",
       "      <td>tensorspace-team</td>\n",
       "      <td>tensorspace</td>\n",
       "      <td>4700</td>\n",
       "      <td>https://github.com/tensorspace-team/tensorspace</td>\n",
       "    </tr>\n",
       "    <tr>\n",
       "      <th>19</th>\n",
       "      <td>google</td>\n",
       "      <td>model-viewer</td>\n",
       "      <td>4700</td>\n",
       "      <td>https://github.com/google/model-viewer</td>\n",
       "    </tr>\n",
       "  </tbody>\n",
       "</table>\n",
       "</div>"
      ],
      "text/plain": [
       "           user name                      repo name  stars  \\\n",
       "0             mrdoob                       three.js  85200   \n",
       "1             libgdx                         libgdx  20400   \n",
       "2             pmndrs              react-three-fiber  19500   \n",
       "3          BabylonJS                     Babylon.js  18300   \n",
       "4              ssloy                   tinyrenderer  14600   \n",
       "5           aframevr                         aframe  14500   \n",
       "6            lettier  3d-game-shaders-for-beginners  13700   \n",
       "7            FreeCAD                        FreeCAD  12100   \n",
       "8          metafizzy                           zdog   9400   \n",
       "9           CesiumGS                         cesium   9200   \n",
       "10       timzhang642            3D-Machine-Learning   8300   \n",
       "11           isl-org                         Open3D   7400   \n",
       "12      a1studmuffin             SpaceshipGenerator   7200   \n",
       "13           blender                        blender   6500   \n",
       "14           domlysz                     BlenderGIS   5600   \n",
       "15          openscad                       openscad   5000   \n",
       "16          spritejs                       spritejs   5000   \n",
       "17           jagenjo                 webglstudio.js   4700   \n",
       "18  tensorspace-team                    tensorspace   4700   \n",
       "19            google                   model-viewer   4700   \n",
       "\n",
       "                                                  url  \n",
       "0                  https://github.com/mrdoob/three.js  \n",
       "1                    https://github.com/libgdx/libgdx  \n",
       "2         https://github.com/pmndrs/react-three-fiber  \n",
       "3             https://github.com/BabylonJS/Babylon.js  \n",
       "4               https://github.com/ssloy/tinyrenderer  \n",
       "5                  https://github.com/aframevr/aframe  \n",
       "6   https://github.com/lettier/3d-game-shaders-for...  \n",
       "7                  https://github.com/FreeCAD/FreeCAD  \n",
       "8                   https://github.com/metafizzy/zdog  \n",
       "9                  https://github.com/CesiumGS/cesium  \n",
       "10  https://github.com/timzhang642/3D-Machine-Lear...  \n",
       "11                  https://github.com/isl-org/Open3D  \n",
       "12  https://github.com/a1studmuffin/SpaceshipGener...  \n",
       "13                 https://github.com/blender/blender  \n",
       "14              https://github.com/domlysz/BlenderGIS  \n",
       "15               https://github.com/openscad/openscad  \n",
       "16               https://github.com/spritejs/spritejs  \n",
       "17          https://github.com/jagenjo/webglstudio.js  \n",
       "18    https://github.com/tensorspace-team/tensorspace  \n",
       "19             https://github.com/google/model-viewer  "
      ]
     },
     "execution_count": 95,
     "metadata": {},
     "output_type": "execute_result"
    }
   ],
   "source": [
    "data"
   ]
  },
  {
   "cell_type": "code",
   "execution_count": null,
   "id": "1cc69823",
   "metadata": {},
   "outputs": [],
   "source": []
  },
  {
   "cell_type": "code",
   "execution_count": 96,
   "id": "e60ac825",
   "metadata": {},
   "outputs": [],
   "source": [
    "def get_topic_page(topic_url):\n",
    "    responce = requests.get(topic_url)\n",
    "    if responce.status_code !=200:\n",
    "        raise Exception('Failed to load page').format(topic_url)\n",
    "    topic_doc = BeautifulSoup(responce.text,'html.parser')\n",
    "    return topic_doc\n",
    "\n",
    "\n",
    "def get_repo_info(h1_tag,star_tag):\n",
    "    # returns all the requited info about a repositry\n",
    "    a_tag = h1_tag.find_all('a')\n",
    "    username = a_tag[0].text.strip()\n",
    "    repo_name = a_tag[1].text.strip()\n",
    "    repo_url = web_link+a_tag[1]['href']\n",
    "    star_tag = star_tag.find_all('span',{'class':'Counter js-social-count'})\n",
    "    stars = parse_star_count(star_tag[0].text.strip())\n",
    "    return username,repo_name,stars,repo_url\n",
    "\n",
    "\n",
    "\n",
    "def get_topic_repos(topic_doc):\n",
    "       \n",
    "    title_repo = topic_doc.find_all('h3',{'class':'f3 color-fg-muted text-normal lh-condensed'})\n",
    "\n",
    "    star_count = topic_doc.find_all('a',{'class':'tooltipped tooltipped-s btn-sm btn BtnGroup-item color-bg-default'})\n",
    "\n",
    "    star_tag = star_count[0].find_all('span',{'class':'Counter js-social-count'})\n",
    "\n",
    "    topic_repo_dict = {\n",
    "        'user name':[],\n",
    "        'repo name':[],\n",
    "        'stars' : [],\n",
    "        'url' : []\n",
    "    }\n",
    "\n",
    "    for i in range(len(title_repo)):\n",
    "        repo_info = get_repo_info(title_repo[i],star_count[i])\n",
    "        topic_repo_dict['user name'].append(repo_info[0])\n",
    "        topic_repo_dict['repo name'].append(repo_info[1])\n",
    "        topic_repo_dict['stars'].append(repo_info[2])\n",
    "        topic_repo_dict['url'].append(repo_info[3])\n",
    "    \n",
    "    return pd.DataFrame(topic_repo_dict)"
   ]
  },
  {
   "cell_type": "code",
   "execution_count": null,
   "id": "5becc4b5",
   "metadata": {},
   "outputs": [],
   "source": []
  },
  {
   "cell_type": "code",
   "execution_count": 97,
   "id": "469a69db",
   "metadata": {},
   "outputs": [],
   "source": [
    "url4 = URLS[4]"
   ]
  },
  {
   "cell_type": "code",
   "execution_count": 99,
   "id": "c52a4504",
   "metadata": {},
   "outputs": [],
   "source": [
    "topic_doc4 = get_topic_page(url4)"
   ]
  },
  {
   "cell_type": "code",
   "execution_count": 100,
   "id": "58aed1d3",
   "metadata": {},
   "outputs": [],
   "source": [
    "topic4_repos = get_topic_repos(topic_doc4)"
   ]
  },
  {
   "cell_type": "code",
   "execution_count": 101,
   "id": "e285ff99",
   "metadata": {},
   "outputs": [
    {
     "data": {
      "text/html": [
       "<div>\n",
       "<style scoped>\n",
       "    .dataframe tbody tr th:only-of-type {\n",
       "        vertical-align: middle;\n",
       "    }\n",
       "\n",
       "    .dataframe tbody tr th {\n",
       "        vertical-align: top;\n",
       "    }\n",
       "\n",
       "    .dataframe thead th {\n",
       "        text-align: right;\n",
       "    }\n",
       "</style>\n",
       "<table border=\"1\" class=\"dataframe\">\n",
       "  <thead>\n",
       "    <tr style=\"text-align: right;\">\n",
       "      <th></th>\n",
       "      <th>user name</th>\n",
       "      <th>repo name</th>\n",
       "      <th>stars</th>\n",
       "      <th>url</th>\n",
       "    </tr>\n",
       "  </thead>\n",
       "  <tbody>\n",
       "    <tr>\n",
       "      <th>0</th>\n",
       "      <td>flutter</td>\n",
       "      <td>flutter</td>\n",
       "      <td>145000</td>\n",
       "      <td>https://github.com/flutter/flutter</td>\n",
       "    </tr>\n",
       "    <tr>\n",
       "      <th>1</th>\n",
       "      <td>justjavac</td>\n",
       "      <td>free-programming-books-zh_CN</td>\n",
       "      <td>95600</td>\n",
       "      <td>https://github.com/justjavac/free-programming-...</td>\n",
       "    </tr>\n",
       "    <tr>\n",
       "      <th>2</th>\n",
       "      <td>Genymobile</td>\n",
       "      <td>scrcpy</td>\n",
       "      <td>70300</td>\n",
       "      <td>https://github.com/Genymobile/scrcpy</td>\n",
       "    </tr>\n",
       "    <tr>\n",
       "      <th>3</th>\n",
       "      <td>Hack-with-Github</td>\n",
       "      <td>Awesome-Hacking</td>\n",
       "      <td>55800</td>\n",
       "      <td>https://github.com/Hack-with-Github/Awesome-Ha...</td>\n",
       "    </tr>\n",
       "    <tr>\n",
       "      <th>4</th>\n",
       "      <td>google</td>\n",
       "      <td>material-design-icons</td>\n",
       "      <td>46500</td>\n",
       "      <td>https://github.com/google/material-design-icons</td>\n",
       "    </tr>\n",
       "    <tr>\n",
       "      <th>5</th>\n",
       "      <td>wasabeef</td>\n",
       "      <td>awesome-android-ui</td>\n",
       "      <td>43900</td>\n",
       "      <td>https://github.com/wasabeef/awesome-android-ui</td>\n",
       "    </tr>\n",
       "    <tr>\n",
       "      <th>6</th>\n",
       "      <td>square</td>\n",
       "      <td>okhttp</td>\n",
       "      <td>42800</td>\n",
       "      <td>https://github.com/square/okhttp</td>\n",
       "    </tr>\n",
       "    <tr>\n",
       "      <th>7</th>\n",
       "      <td>Solido</td>\n",
       "      <td>awesome-flutter</td>\n",
       "      <td>42700</td>\n",
       "      <td>https://github.com/Solido/awesome-flutter</td>\n",
       "    </tr>\n",
       "    <tr>\n",
       "      <th>8</th>\n",
       "      <td>android</td>\n",
       "      <td>architecture-samples</td>\n",
       "      <td>41500</td>\n",
       "      <td>https://github.com/android/architecture-samples</td>\n",
       "    </tr>\n",
       "    <tr>\n",
       "      <th>9</th>\n",
       "      <td>square</td>\n",
       "      <td>retrofit</td>\n",
       "      <td>40500</td>\n",
       "      <td>https://github.com/square/retrofit</td>\n",
       "    </tr>\n",
       "    <tr>\n",
       "      <th>10</th>\n",
       "      <td>dcloudio</td>\n",
       "      <td>uni-app</td>\n",
       "      <td>37100</td>\n",
       "      <td>https://github.com/dcloudio/uni-app</td>\n",
       "    </tr>\n",
       "    <tr>\n",
       "      <th>11</th>\n",
       "      <td>fastlane</td>\n",
       "      <td>fastlane</td>\n",
       "      <td>35800</td>\n",
       "      <td>https://github.com/fastlane/fastlane</td>\n",
       "    </tr>\n",
       "    <tr>\n",
       "      <th>12</th>\n",
       "      <td>PhilJay</td>\n",
       "      <td>MPAndroidChart</td>\n",
       "      <td>35600</td>\n",
       "      <td>https://github.com/PhilJay/MPAndroidChart</td>\n",
       "    </tr>\n",
       "    <tr>\n",
       "      <th>13</th>\n",
       "      <td>airbnb</td>\n",
       "      <td>lottie-android</td>\n",
       "      <td>33200</td>\n",
       "      <td>https://github.com/airbnb/lottie-android</td>\n",
       "    </tr>\n",
       "    <tr>\n",
       "      <th>14</th>\n",
       "      <td>bumptech</td>\n",
       "      <td>glide</td>\n",
       "      <td>33000</td>\n",
       "      <td>https://github.com/bumptech/glide</td>\n",
       "    </tr>\n",
       "    <tr>\n",
       "      <th>15</th>\n",
       "      <td>shadowsocks</td>\n",
       "      <td>shadowsocks-android</td>\n",
       "      <td>32900</td>\n",
       "      <td>https://github.com/shadowsocks/shadowsocks-and...</td>\n",
       "    </tr>\n",
       "    <tr>\n",
       "      <th>16</th>\n",
       "      <td>laurent22</td>\n",
       "      <td>joplin</td>\n",
       "      <td>32000</td>\n",
       "      <td>https://github.com/laurent22/joplin</td>\n",
       "    </tr>\n",
       "    <tr>\n",
       "      <th>17</th>\n",
       "      <td>skylot</td>\n",
       "      <td>jadx</td>\n",
       "      <td>31600</td>\n",
       "      <td>https://github.com/skylot/jadx</td>\n",
       "    </tr>\n",
       "    <tr>\n",
       "      <th>18</th>\n",
       "      <td>Blankj</td>\n",
       "      <td>AndroidUtilCode</td>\n",
       "      <td>31300</td>\n",
       "      <td>https://github.com/Blankj/AndroidUtilCode</td>\n",
       "    </tr>\n",
       "    <tr>\n",
       "      <th>19</th>\n",
       "      <td>xitu</td>\n",
       "      <td>gold-miner</td>\n",
       "      <td>31300</td>\n",
       "      <td>https://github.com/xitu/gold-miner</td>\n",
       "    </tr>\n",
       "  </tbody>\n",
       "</table>\n",
       "</div>"
      ],
      "text/plain": [
       "           user name                     repo name   stars  \\\n",
       "0            flutter                       flutter  145000   \n",
       "1          justjavac  free-programming-books-zh_CN   95600   \n",
       "2         Genymobile                        scrcpy   70300   \n",
       "3   Hack-with-Github               Awesome-Hacking   55800   \n",
       "4             google         material-design-icons   46500   \n",
       "5           wasabeef            awesome-android-ui   43900   \n",
       "6             square                        okhttp   42800   \n",
       "7             Solido               awesome-flutter   42700   \n",
       "8            android          architecture-samples   41500   \n",
       "9             square                      retrofit   40500   \n",
       "10          dcloudio                       uni-app   37100   \n",
       "11          fastlane                      fastlane   35800   \n",
       "12           PhilJay                MPAndroidChart   35600   \n",
       "13            airbnb                lottie-android   33200   \n",
       "14          bumptech                         glide   33000   \n",
       "15       shadowsocks           shadowsocks-android   32900   \n",
       "16         laurent22                        joplin   32000   \n",
       "17            skylot                          jadx   31600   \n",
       "18            Blankj               AndroidUtilCode   31300   \n",
       "19              xitu                    gold-miner   31300   \n",
       "\n",
       "                                                  url  \n",
       "0                  https://github.com/flutter/flutter  \n",
       "1   https://github.com/justjavac/free-programming-...  \n",
       "2                https://github.com/Genymobile/scrcpy  \n",
       "3   https://github.com/Hack-with-Github/Awesome-Ha...  \n",
       "4     https://github.com/google/material-design-icons  \n",
       "5      https://github.com/wasabeef/awesome-android-ui  \n",
       "6                    https://github.com/square/okhttp  \n",
       "7           https://github.com/Solido/awesome-flutter  \n",
       "8     https://github.com/android/architecture-samples  \n",
       "9                  https://github.com/square/retrofit  \n",
       "10                https://github.com/dcloudio/uni-app  \n",
       "11               https://github.com/fastlane/fastlane  \n",
       "12          https://github.com/PhilJay/MPAndroidChart  \n",
       "13           https://github.com/airbnb/lottie-android  \n",
       "14                  https://github.com/bumptech/glide  \n",
       "15  https://github.com/shadowsocks/shadowsocks-and...  \n",
       "16                https://github.com/laurent22/joplin  \n",
       "17                     https://github.com/skylot/jadx  \n",
       "18          https://github.com/Blankj/AndroidUtilCode  \n",
       "19                 https://github.com/xitu/gold-miner  "
      ]
     },
     "execution_count": 101,
     "metadata": {},
     "output_type": "execute_result"
    }
   ],
   "source": [
    "topic4_repos"
   ]
  },
  {
   "cell_type": "code",
   "execution_count": null,
   "id": "65e4cde1",
   "metadata": {},
   "outputs": [],
   "source": []
  },
  {
   "cell_type": "code",
   "execution_count": null,
   "id": "3b2f5f31",
   "metadata": {},
   "outputs": [],
   "source": []
  },
  {
   "cell_type": "code",
   "execution_count": null,
   "id": "c62a35e4",
   "metadata": {},
   "outputs": [],
   "source": [
    "def scrape_topic_reppos():\n",
    "    "
   ]
  },
  {
   "cell_type": "code",
   "execution_count": null,
   "id": "a161ad5d",
   "metadata": {},
   "outputs": [],
   "source": []
  }
 ],
 "metadata": {
  "kernelspec": {
   "display_name": "Python 3.10.4 64-bit",
   "language": "python",
   "name": "python3"
  },
  "language_info": {
   "codemirror_mode": {
    "name": "ipython",
    "version": 3
   },
   "file_extension": ".py",
   "mimetype": "text/x-python",
   "name": "python",
   "nbconvert_exporter": "python",
   "pygments_lexer": "ipython3",
   "version": "3.10.4"
  },
  "vscode": {
   "interpreter": {
    "hash": "916dbcbb3f70747c44a77c7bcd40155683ae19c65e1c03b4aa3499c5328201f1"
   }
  }
 },
 "nbformat": 4,
 "nbformat_minor": 5
}
